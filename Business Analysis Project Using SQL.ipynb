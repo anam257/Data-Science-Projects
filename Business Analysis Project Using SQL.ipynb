{
 "cells": [
  {
   "cell_type": "markdown",
   "metadata": {},
   "source": [
    "# Business Analysis Project Using SQL\n",
    "\n",
    "We'll be working with a modified version of a database called [Chinook](https://github.com/lerocha/chinook-database). The Chinook database contains information about a fictional digital music shop - kind of like a mini-iTunes store.\n",
    "\n",
    "The Chinook database contains information about the artists, songs, and albums from the music shop, as well as information on the shop's employees, customers, and the customers purchases. This information is contained in eleven tables.  Here's a [schema diagram for the Chinook database:](https://s3.amazonaws.com/dq-content/189/chinook-schema.svg) \n"
   ]
  },
  {
   "cell_type": "code",
   "execution_count": 1,
   "metadata": {},
   "outputs": [],
   "source": [
    "%%capture\n",
    "%load_ext sql\n",
    "%sql sqlite:///chinook.db"
   ]
  },
  {
   "cell_type": "markdown",
   "metadata": {},
   "source": [
    "## Overview of database schema"
   ]
  },
  {
   "cell_type": "code",
   "execution_count": 2,
   "metadata": {},
   "outputs": [
    {
     "name": "stdout",
     "output_type": "stream",
     "text": [
      " * sqlite:///chinook.db\n",
      "Done.\n"
     ]
    },
    {
     "data": {
      "text/html": [
       "<table>\n",
       "    <thead>\n",
       "        <tr>\n",
       "            <th>name</th>\n",
       "            <th>type</th>\n",
       "        </tr>\n",
       "    </thead>\n",
       "    <tbody>\n",
       "        <tr>\n",
       "            <td>album</td>\n",
       "            <td>table</td>\n",
       "        </tr>\n",
       "        <tr>\n",
       "            <td>artist</td>\n",
       "            <td>table</td>\n",
       "        </tr>\n",
       "        <tr>\n",
       "            <td>customer</td>\n",
       "            <td>table</td>\n",
       "        </tr>\n",
       "        <tr>\n",
       "            <td>employee</td>\n",
       "            <td>table</td>\n",
       "        </tr>\n",
       "        <tr>\n",
       "            <td>genre</td>\n",
       "            <td>table</td>\n",
       "        </tr>\n",
       "        <tr>\n",
       "            <td>invoice</td>\n",
       "            <td>table</td>\n",
       "        </tr>\n",
       "        <tr>\n",
       "            <td>invoice_line</td>\n",
       "            <td>table</td>\n",
       "        </tr>\n",
       "        <tr>\n",
       "            <td>media_type</td>\n",
       "            <td>table</td>\n",
       "        </tr>\n",
       "        <tr>\n",
       "            <td>playlist</td>\n",
       "            <td>table</td>\n",
       "        </tr>\n",
       "        <tr>\n",
       "            <td>playlist_track</td>\n",
       "            <td>table</td>\n",
       "        </tr>\n",
       "        <tr>\n",
       "            <td>track</td>\n",
       "            <td>table</td>\n",
       "        </tr>\n",
       "    </tbody>\n",
       "</table>"
      ],
      "text/plain": [
       "[('album', 'table'),\n",
       " ('artist', 'table'),\n",
       " ('customer', 'table'),\n",
       " ('employee', 'table'),\n",
       " ('genre', 'table'),\n",
       " ('invoice', 'table'),\n",
       " ('invoice_line', 'table'),\n",
       " ('media_type', 'table'),\n",
       " ('playlist', 'table'),\n",
       " ('playlist_track', 'table'),\n",
       " ('track', 'table')]"
      ]
     },
     "execution_count": 2,
     "metadata": {},
     "output_type": "execute_result"
    }
   ],
   "source": [
    "%%sql\n",
    "SELECT\n",
    "    name,\n",
    "    type\n",
    "FROM sqlite_master\n",
    "WHERE type IN (\"table\",\"view\");"
   ]
  },
  {
   "cell_type": "markdown",
   "metadata": {},
   "source": [
    "# Selecting New Albums to Purchase\n",
    "\n",
    "The Chinook record store has just signed a deal with a new record label, and we have been tasked with selecting the first three albums that will be added to the store, from a list of four. All four albums are by artists that don't have any tracks in the store right now - we have the artist names, and the genre of music they produce:\n",
    "\n",
    "| Artist Name| Genre |\n",
    "| --- | --- | \n",
    "| Regal | Hip-Hop |\n",
    "| Red Tone | Punk | \n",
    "| Meteor and the Girls | Pop | \n",
    "| Slim Jim Bites | Blues | \n",
    "\n",
    "The record label specializes in artists from the USA, and they have given Chinook some money to advertise the new albums in the USA, so we're interested in finding out which genres sell the best in the USA.\n",
    "\n",
    "- Subquery - to get all the USA based customers with invoice details\n",
    "- Main query - to compute percentage of tracks_sold in each genre \n",
    "\n"
   ]
  },
  {
   "cell_type": "code",
   "execution_count": 3,
   "metadata": {},
   "outputs": [
    {
     "name": "stdout",
     "output_type": "stream",
     "text": [
      " * sqlite:///chinook.db\n",
      "Done.\n"
     ]
    },
    {
     "data": {
      "text/html": [
       "<table>\n",
       "    <thead>\n",
       "        <tr>\n",
       "            <th>genre_name</th>\n",
       "            <th>tracks_sold</th>\n",
       "            <th>percentage_sold</th>\n",
       "        </tr>\n",
       "    </thead>\n",
       "    <tbody>\n",
       "        <tr>\n",
       "            <td>Rock</td>\n",
       "            <td>561</td>\n",
       "            <td>0.53</td>\n",
       "        </tr>\n",
       "        <tr>\n",
       "            <td>Alternative &amp; Punk</td>\n",
       "            <td>130</td>\n",
       "            <td>0.12</td>\n",
       "        </tr>\n",
       "        <tr>\n",
       "            <td>Metal</td>\n",
       "            <td>124</td>\n",
       "            <td>0.12</td>\n",
       "        </tr>\n",
       "        <tr>\n",
       "            <td>R&amp;B/Soul</td>\n",
       "            <td>53</td>\n",
       "            <td>0.05</td>\n",
       "        </tr>\n",
       "        <tr>\n",
       "            <td>Blues</td>\n",
       "            <td>36</td>\n",
       "            <td>0.03</td>\n",
       "        </tr>\n",
       "        <tr>\n",
       "            <td>Alternative</td>\n",
       "            <td>35</td>\n",
       "            <td>0.03</td>\n",
       "        </tr>\n",
       "        <tr>\n",
       "            <td>Latin</td>\n",
       "            <td>22</td>\n",
       "            <td>0.02</td>\n",
       "        </tr>\n",
       "        <tr>\n",
       "            <td>Pop</td>\n",
       "            <td>22</td>\n",
       "            <td>0.02</td>\n",
       "        </tr>\n",
       "        <tr>\n",
       "            <td>Hip Hop/Rap</td>\n",
       "            <td>20</td>\n",
       "            <td>0.02</td>\n",
       "        </tr>\n",
       "        <tr>\n",
       "            <td>Jazz</td>\n",
       "            <td>14</td>\n",
       "            <td>0.01</td>\n",
       "        </tr>\n",
       "        <tr>\n",
       "            <td>Easy Listening</td>\n",
       "            <td>13</td>\n",
       "            <td>0.01</td>\n",
       "        </tr>\n",
       "        <tr>\n",
       "            <td>Reggae</td>\n",
       "            <td>6</td>\n",
       "            <td>0.01</td>\n",
       "        </tr>\n",
       "        <tr>\n",
       "            <td>Electronica/Dance</td>\n",
       "            <td>5</td>\n",
       "            <td>0.0</td>\n",
       "        </tr>\n",
       "        <tr>\n",
       "            <td>Classical</td>\n",
       "            <td>4</td>\n",
       "            <td>0.0</td>\n",
       "        </tr>\n",
       "        <tr>\n",
       "            <td>Heavy Metal</td>\n",
       "            <td>3</td>\n",
       "            <td>0.0</td>\n",
       "        </tr>\n",
       "        <tr>\n",
       "            <td>Soundtrack</td>\n",
       "            <td>2</td>\n",
       "            <td>0.0</td>\n",
       "        </tr>\n",
       "        <tr>\n",
       "            <td>TV Shows</td>\n",
       "            <td>1</td>\n",
       "            <td>0.0</td>\n",
       "        </tr>\n",
       "    </tbody>\n",
       "</table>"
      ],
      "text/plain": [
       "[('Rock', 561, 0.53),\n",
       " ('Alternative & Punk', 130, 0.12),\n",
       " ('Metal', 124, 0.12),\n",
       " ('R&B/Soul', 53, 0.05),\n",
       " ('Blues', 36, 0.03),\n",
       " ('Alternative', 35, 0.03),\n",
       " ('Latin', 22, 0.02),\n",
       " ('Pop', 22, 0.02),\n",
       " ('Hip Hop/Rap', 20, 0.02),\n",
       " ('Jazz', 14, 0.01),\n",
       " ('Easy Listening', 13, 0.01),\n",
       " ('Reggae', 6, 0.01),\n",
       " ('Electronica/Dance', 5, 0.0),\n",
       " ('Classical', 4, 0.0),\n",
       " ('Heavy Metal', 3, 0.0),\n",
       " ('Soundtrack', 2, 0.0),\n",
       " ('TV Shows', 1, 0.0)]"
      ]
     },
     "execution_count": 3,
     "metadata": {},
     "output_type": "execute_result"
    }
   ],
   "source": [
    "\n",
    "%%sql\n",
    "WITH usa_tracks_sold AS \n",
    "    (SELECT * \n",
    "     FROM customer c\n",
    "     INNER JOIN invoice i ON i.customer_id=c.customer_id\n",
    "     INNER JOIN invoice_line il ON i.invoice_id=il.invoice_id WHERE c.country=\"USA\")\n",
    "\n",
    "SELECT\n",
    "    g.name genre_name,\n",
    "    SUM(uts.quantity) tracks_sold,\n",
    "    ROUND (CAST(count(uts.invoice_line_id) AS FLOAT) / (\n",
    "        SELECT COUNT(*) From usa_tracks_sold), 2) AS percentage_sold\n",
    "FROM usa_tracks_sold uts\n",
    "INNER JOIN track t ON uts.track_id=t.track_id \n",
    "INNER JOIN genre g ON g.genre_id=t.genre_id GROUP BY 1 ORDER BY 2 DESC;       \n",
    "\n"
   ]
  },
  {
   "cell_type": "markdown",
   "metadata": {},
   "source": [
    "**REMARK:** As we examine the popularity of genre based on records sold, Punk, Blue, and Pop are the genres that should be added to the record label.\n",
    "\n",
    "It's worth keeping in mind that combined, these three genres only make up only 17% of total sales, so we should be on the lookout for artists and albums from the 'rock' genre, which accounts for 53% of sales."
   ]
  },
  {
   "cell_type": "markdown",
   "metadata": {},
   "source": [
    "## Analyzing the employee performance "
   ]
  },
  {
   "cell_type": "code",
   "execution_count": 4,
   "metadata": {
    "scrolled": true
   },
   "outputs": [
    {
     "name": "stdout",
     "output_type": "stream",
     "text": [
      " * sqlite:///chinook.db\n",
      "Done.\n"
     ]
    },
    {
     "data": {
      "text/html": [
       "<table>\n",
       "    <thead>\n",
       "        <tr>\n",
       "            <th>employee_name</th>\n",
       "            <th>hire_date</th>\n",
       "            <th>total_sales</th>\n",
       "            <th>percentage_sales</th>\n",
       "        </tr>\n",
       "    </thead>\n",
       "    <tbody>\n",
       "        <tr>\n",
       "            <td>Jane Peacock</td>\n",
       "            <td>2017-04-01 00:00:00</td>\n",
       "            <td>1731.5100000000039</td>\n",
       "            <td>36.77</td>\n",
       "        </tr>\n",
       "        <tr>\n",
       "            <td>Margaret Park</td>\n",
       "            <td>2017-05-03 00:00:00</td>\n",
       "            <td>1584.0000000000034</td>\n",
       "            <td>33.63</td>\n",
       "        </tr>\n",
       "        <tr>\n",
       "            <td>Steve Johnson</td>\n",
       "            <td>2017-10-17 00:00:00</td>\n",
       "            <td>1393.920000000002</td>\n",
       "            <td>29.6</td>\n",
       "        </tr>\n",
       "    </tbody>\n",
       "</table>"
      ],
      "text/plain": [
       "[('Jane Peacock', '2017-04-01 00:00:00', 1731.5100000000039, 36.77),\n",
       " ('Margaret Park', '2017-05-03 00:00:00', 1584.0000000000034, 33.63),\n",
       " ('Steve Johnson', '2017-10-17 00:00:00', 1393.920000000002, 29.6)]"
      ]
     },
     "execution_count": 4,
     "metadata": {},
     "output_type": "execute_result"
    }
   ],
   "source": [
    "%%sql\n",
    "\n",
    "WITH employee_sales AS \n",
    "    (SELECT e.employee_id, \n",
    "            e.first_name|| \" \"||e.last_name employee_name,\n",
    "            e.hire_date,\n",
    "            c.customer_id, i.invoice_id,i.total \n",
    "    FROM employee e \n",
    "    INNER JOIN customer c ON e.employee_id=c.support_rep_id \n",
    "    INNER JOIN invoice i ON c.customer_id=i.customer_id)\n",
    "    \n",
    "SELECT es.employee_name,\n",
    "       es.hire_date,\n",
    "       SUM(es.total) total_sales,\n",
    "       ROUND((CAST(SUM(es.total) AS FLOAT)/(SELECT SUM(total) FROM employee_sales))*100,2) percentage_sales\n",
    "FROM employee_sales es GROUP BY 1 ORDER BY 3 DESC;"
   ]
  },
  {
   "cell_type": "markdown",
   "metadata": {},
   "source": [
    "**REMARK** Jane has 2% sales more than Park. This could be because Jane was hired one month prior to Park."
   ]
  },
  {
   "cell_type": "markdown",
   "metadata": {},
   "source": [
    "## Analyzing Sales by Country\n",
    "\n",
    "There are a number of countries with only one customer, we will group these customers as \"other\" in our analysis. "
   ]
  },
  {
   "cell_type": "markdown",
   "metadata": {},
   "source": [
    "%%sql\n",
    "WITH country_or_other AS\n",
    "     (SELECT \n",
    "            CASE\n",
    "                WHEN (SELECT COUNT(*) FROM customer WHERE country=c.country)=1 THEN \"other\"\n",
    "                ELSE country\n",
    "            END country,\n",
    "            customer_id\n",
    "     FROM customer c)\n",
    "    \n",
    "SELECT  c.country,\n",
    "        COUNT(distinct c.customer_id) total_customers,\n",
    "        ROUND(SUM(i.total),1) total_sales, \n",
    "        ROUND(CAST(SUM(i.total) AS FLOAT)/COUNT(c.customer_id),2) avg_sales_per_customer, \n",
    "        ROUND(CAST(SUM(i.total) AS FLOAT)/COUNT(i.invoice_id),2) avg_order_value,\n",
    "        CASE\n",
    "            WHEN country = \"other\" THEN 1\n",
    "            ELSE 0\n",
    "        END AS sort\n",
    "FROM country_or_other c \n",
    "LEFT JOIN invoice i ON c.customer_id=i.customer_id \n",
    "GROUP BY 1 \n",
    "ORDER BY sort ASC, 4 DESC;"
   ]
  },
  {
   "cell_type": "markdown",
   "metadata": {},
   "source": [
    "**REMARK**  Based on our analysis, Czech Republic, UK and India are top 3 countries with highest average sales per customer. There is a potential to tap the market in these countries."
   ]
  },
  {
   "cell_type": "markdown",
   "metadata": {},
   "source": [
    "## Analyzing percentage of purchases of individual tracks vs whole albums\n",
    "\n",
    "The Chinook store is setup in a way that allows customer to make purchases in one of the two ways:\n",
    "\n",
    "- purchase a whole album\n",
    "- purchase a collection of one or more individual tracks.\n",
    "\n",
    "The store does not let customers purchase a whole album, and then add individual tracks to that same purchase (unless they do that by choosing each track manually). When customers purchase albums they are charged the same price as if they had purchased each of those tracks separately.\n",
    "\n",
    "Management are currently considering changing their purchasing strategy to save money. The strategy they are considering is to purchase only the most popular tracks from each album from record companies, instead of purchasing every track from an album.\n",
    "\n",
    "- **Question:** So, we find out what percentage of purchases are individual tracks vs whole albums, so that management can use this data to understand the effect this decision might have on overall revenue.\n",
    "\n",
    "- For performing an analysis we have 'edge cases' which prevent us from getting a 100% accurate answer to our question. In this instance, we have two edge cases to consider:\n",
    "\n",
    "    - Albums that have only one or two tracks are likely to be purchased by customers as part of a collection of individual tracks.\n",
    "    - Customers may decide to manually select every track from an album, and then add a few individual tracks from other albums to their purchase.\n",
    "    \n",
    "Since our analysis is concerned with maximizing revenue we can safely ignore edge cases. \n",
    "\n",
    "**Solution: We start by analyzing by identifying whether each invoice has all the tracks from an album.**\n",
    "- Comparing list of tracks from invoice with list of tracks from an album\n",
    "    - Find the album to compare the purchase to by looking up the album that one of the purchased tracks belongs to. It doesn't matter which track we pick, since if it's an album purchase, that album will be the same for all tracks.\n",
    "    - NOTE: Album has list of tracks, invoice has list of invoice_line_ids, and invoice_line_id has list of tracks"
   ]
  },
  {
   "cell_type": "code",
   "execution_count": 5,
   "metadata": {},
   "outputs": [
    {
     "name": "stdout",
     "output_type": "stream",
     "text": [
      " * sqlite:///chinook.db\n",
      "Done.\n"
     ]
    },
    {
     "data": {
      "text/html": [
       "<table>\n",
       "    <thead>\n",
       "        <tr>\n",
       "            <th>album_purchase</th>\n",
       "            <th>number_of_invoices</th>\n",
       "            <th>percent</th>\n",
       "        </tr>\n",
       "    </thead>\n",
       "    <tbody>\n",
       "        <tr>\n",
       "            <td>no</td>\n",
       "            <td>500</td>\n",
       "            <td>0.8143322475570033</td>\n",
       "        </tr>\n",
       "        <tr>\n",
       "            <td>yes</td>\n",
       "            <td>114</td>\n",
       "            <td>0.18566775244299674</td>\n",
       "        </tr>\n",
       "    </tbody>\n",
       "</table>"
      ],
      "text/plain": [
       "[('no', 500, 0.8143322475570033), ('yes', 114, 0.18566775244299674)]"
      ]
     },
     "execution_count": 5,
     "metadata": {},
     "output_type": "execute_result"
    }
   ],
   "source": [
    "%%sql\n",
    "WITH invoice_first_track AS\n",
    "    (\n",
    "     SELECT\n",
    "         il.invoice_id invoice_id,\n",
    "         MIN(il.track_id) first_track_id\n",
    "     FROM invoice_line il\n",
    "     GROUP BY 1\n",
    "    )\n",
    "\n",
    "SELECT\n",
    "    album_purchase,\n",
    "    COUNT(invoice_id) number_of_invoices,\n",
    "    CAST(count(invoice_id) AS FLOAT) / (\n",
    "                                         SELECT COUNT(*) FROM invoice\n",
    "                                      ) percent\n",
    "FROM\n",
    "    (\n",
    "    SELECT\n",
    "        ifs.*,\n",
    "        CASE\n",
    "            WHEN\n",
    "                 (\n",
    "                  SELECT t.track_id FROM track t\n",
    "                  WHERE t.album_id = (\n",
    "                                      SELECT t2.album_id FROM track t2\n",
    "                                      WHERE t2.track_id = ifs.first_track_id\n",
    "                                     ) \n",
    "\n",
    "                  EXCEPT \n",
    "\n",
    "                  SELECT il2.track_id FROM invoice_line il2\n",
    "                  WHERE il2.invoice_id = ifs.invoice_id\n",
    "                 ) IS NULL\n",
    "             AND\n",
    "                 (\n",
    "                  SELECT il2.track_id FROM invoice_line il2\n",
    "                  WHERE il2.invoice_id = ifs.invoice_id\n",
    "\n",
    "                  EXCEPT \n",
    "\n",
    "                  SELECT t.track_id FROM track t\n",
    "                  WHERE t.album_id = (\n",
    "                                      SELECT t2.album_id FROM track t2\n",
    "                                      WHERE t2.track_id = ifs.first_track_id\n",
    "                                     ) \n",
    "                 ) IS NULL\n",
    "             THEN \"yes\"\n",
    "             ELSE \"no\"\n",
    "         END AS \"album_purchase\"\n",
    "     FROM invoice_first_track ifs\n",
    "    )\n",
    "GROUP BY album_purchase;"
   ]
  },
  {
   "cell_type": "markdown",
   "metadata": {},
   "source": [
    "\n",
    "Album purchases account for 18.6% of purchases. Based on this data, I would recommend against purchasing only select tracks from albums from record companies, since there is potential to lose one fifth of revenue."
   ]
  },
  {
   "cell_type": "markdown",
   "metadata": {},
   "source": [
    "## Which artist is used in the most playlists?"
   ]
  },
  {
   "cell_type": "code",
   "execution_count": 6,
   "metadata": {},
   "outputs": [
    {
     "name": "stdout",
     "output_type": "stream",
     "text": [
      " * sqlite:///chinook.db\n",
      "Done.\n"
     ]
    },
    {
     "data": {
      "text/html": [
       "<table>\n",
       "    <thead>\n",
       "        <tr>\n",
       "            <th>name</th>\n",
       "            <th>in_no_of_playlists</th>\n",
       "            <th>percentage</th>\n",
       "        </tr>\n",
       "    </thead>\n",
       "    <tbody>\n",
       "        <tr>\n",
       "            <td>Iron Maiden</td>\n",
       "            <td>516</td>\n",
       "            <td>28.67</td>\n",
       "        </tr>\n",
       "        <tr>\n",
       "            <td>U2</td>\n",
       "            <td>333</td>\n",
       "            <td>18.5</td>\n",
       "        </tr>\n",
       "        <tr>\n",
       "            <td>Metallica</td>\n",
       "            <td>296</td>\n",
       "            <td>16.44</td>\n",
       "        </tr>\n",
       "        <tr>\n",
       "            <td>Led Zeppelin</td>\n",
       "            <td>252</td>\n",
       "            <td>14.0</td>\n",
       "        </tr>\n",
       "        <tr>\n",
       "            <td>Deep Purple</td>\n",
       "            <td>226</td>\n",
       "            <td>12.56</td>\n",
       "        </tr>\n",
       "        <tr>\n",
       "            <td>Lost</td>\n",
       "            <td>184</td>\n",
       "            <td>10.22</td>\n",
       "        </tr>\n",
       "        <tr>\n",
       "            <td>Pearl Jam</td>\n",
       "            <td>177</td>\n",
       "            <td>9.83</td>\n",
       "        </tr>\n",
       "        <tr>\n",
       "            <td>Eric Clapton</td>\n",
       "            <td>145</td>\n",
       "            <td>8.06</td>\n",
       "        </tr>\n",
       "        <tr>\n",
       "            <td>Faith No More</td>\n",
       "            <td>145</td>\n",
       "            <td>8.06</td>\n",
       "        </tr>\n",
       "        <tr>\n",
       "            <td>Lenny Kravitz</td>\n",
       "            <td>143</td>\n",
       "            <td>7.94</td>\n",
       "        </tr>\n",
       "    </tbody>\n",
       "</table>"
      ],
      "text/plain": [
       "[('Iron Maiden', 516, 28.67),\n",
       " ('U2', 333, 18.5),\n",
       " ('Metallica', 296, 16.44),\n",
       " ('Led Zeppelin', 252, 14.0),\n",
       " ('Deep Purple', 226, 12.56),\n",
       " ('Lost', 184, 10.22),\n",
       " ('Pearl Jam', 177, 9.83),\n",
       " ('Eric Clapton', 145, 8.06),\n",
       " ('Faith No More', 145, 8.06),\n",
       " ('Lenny Kravitz', 143, 7.94)]"
      ]
     },
     "execution_count": 6,
     "metadata": {},
     "output_type": "execute_result"
    }
   ],
   "source": [
    "%%sql\n",
    "\n",
    "WITH artist_track AS \n",
    "                (SELECT a.name,t.track_id FROM artist a \n",
    "                 LEFT JOIN album al ON a.artist_id=al.artist_id \n",
    "                 LEFT JOIN track t ON t.album_id=al.album_id ORDER BY 1),\n",
    "     playlist_name_track AS \n",
    "                      (SELECT p.name playlist_name, pt.track_id \n",
    "                      FROM playlist_track pt \n",
    "                      LEFT JOIN playlist p \n",
    "                      ON p.playlist_id=pt.playlist_id \n",
    "                      ORDER BY 1) \n",
    "    \n",
    "SELECT at.name, \n",
    "       COUNT(pnt.playlist_name) AS in_no_of_playlists,\n",
    "       ROUND(CAST(COUNT(pnt.playlist_name) AS FLOAT)/ (SELECT COUNT(*) FROM playlist),2) percentage FROM artist_track at \n",
    "LEFT JOIN playlist_name_track pnt ON at.track_id=pnt.track_id GROUP BY 1 ORDER BY 2 DESC LIMIT 10;"
   ]
  },
  {
   "cell_type": "markdown",
   "metadata": {},
   "source": [
    "**REMARK:** Iron Maiden, U2, Metallica, Led Zeppelin and Deep Purple who are listed among top 5 popular artists."
   ]
  },
  {
   "cell_type": "markdown",
   "metadata": {},
   "source": [
    "## How many tracks have been purchased vs not purchased?"
   ]
  },
  {
   "cell_type": "code",
   "execution_count": 7,
   "metadata": {},
   "outputs": [
    {
     "name": "stdout",
     "output_type": "stream",
     "text": [
      " * sqlite:///chinook.db\n",
      "Done.\n"
     ]
    },
    {
     "data": {
      "text/html": [
       "<table>\n",
       "    <thead>\n",
       "        <tr>\n",
       "            <th>tracks_purchased</th>\n",
       "            <th>tracks_not_purchased</th>\n",
       "        </tr>\n",
       "    </thead>\n",
       "    <tbody>\n",
       "        <tr>\n",
       "            <td>1806</td>\n",
       "            <td>1697</td>\n",
       "        </tr>\n",
       "    </tbody>\n",
       "</table>"
      ],
      "text/plain": [
       "[(1806, 1697)]"
      ]
     },
     "execution_count": 7,
     "metadata": {},
     "output_type": "execute_result"
    }
   ],
   "source": [
    "%%sql\n",
    "WITH album_track AS\n",
    "    (\n",
    "     SELECT\n",
    "         a.album_id album_id,\n",
    "         t.track_id track_id\n",
    "     FROM album a \n",
    "     LEFT JOIN track t ON t.album_id=a.album_id\n",
    "    )\n",
    "\n",
    "SELECT\n",
    "    COUNT(DISTINCT(il.track_id)) tracks_purchased,\n",
    "    (COUNT(DISTINCT(at.track_id)) - COUNT(DISTINCT(il.track_id))) tracks_not_purchased\n",
    "FROM album_track at \n",
    "LEFT JOIN invoice_line il ON at.track_id=il.track_id;"
   ]
  },
  {
   "cell_type": "markdown",
   "metadata": {},
   "source": [
    "## Is the range of tracks in the store reflective of their sales popularity?"
   ]
  },
  {
   "cell_type": "code",
   "execution_count": 8,
   "metadata": {},
   "outputs": [
    {
     "name": "stdout",
     "output_type": "stream",
     "text": [
      " * sqlite:///chinook.db\n",
      "Done.\n"
     ]
    },
    {
     "data": {
      "text/html": [
       "<table>\n",
       "    <thead>\n",
       "        <tr>\n",
       "            <th>range_of_tracks</th>\n",
       "            <th>distinct_tracks_sold</th>\n",
       "            <th>total_tracks_sold</th>\n",
       "            <th>distinct_percentage_of_tracks_sold(%)</th>\n",
       "        </tr>\n",
       "    </thead>\n",
       "    <tbody>\n",
       "        <tr>\n",
       "            <td>3503</td>\n",
       "            <td>1806</td>\n",
       "            <td>4757</td>\n",
       "            <td>52.0</td>\n",
       "        </tr>\n",
       "    </tbody>\n",
       "</table>"
      ],
      "text/plain": [
       "[(3503, 1806, 4757, 52.0)]"
      ]
     },
     "execution_count": 8,
     "metadata": {},
     "output_type": "execute_result"
    }
   ],
   "source": [
    "%%sql\n",
    "SELECT (SELECT COUNT(track_id) FROM track) range_of_tracks,\n",
    "       COUNT(DISTINCT(track_id)) distinct_tracks_sold, \n",
    "       COUNT(*) total_tracks_sold,\n",
    "       ROUND(CAST(COUNT(DISTINCT(track_id)) AS FLOAT) /(SELECT COUNT(track_id) FROM track),2)*100 \"distinct_percentage_of_tracks_sold(%)\"\n",
    "FROM invoice_line;"
   ]
  },
  {
   "cell_type": "markdown",
   "metadata": {},
   "source": [
    "Over 50% of the tracks sold from the avaiable tracks. Since, total tracks sold is almost 3 times more than the distinct tracks sold infers that some of the tracks are very popular and we sold more than 1 time."
   ]
  },
  {
   "cell_type": "markdown",
   "metadata": {},
   "source": [
    "## Do protected vs non-protected media types have an effect on popularity?"
   ]
  },
  {
   "cell_type": "code",
   "execution_count": 9,
   "metadata": {},
   "outputs": [
    {
     "name": "stdout",
     "output_type": "stream",
     "text": [
      " * sqlite:///chinook.db\n",
      "Done.\n"
     ]
    },
    {
     "data": {
      "text/html": [
       "<table>\n",
       "    <thead>\n",
       "        <tr>\n",
       "            <th>name</th>\n",
       "            <th>total_sales</th>\n",
       "        </tr>\n",
       "    </thead>\n",
       "    <tbody>\n",
       "        <tr>\n",
       "            <td>MPEG audio file</td>\n",
       "            <td>4259</td>\n",
       "        </tr>\n",
       "        <tr>\n",
       "            <td>Protected AAC audio file</td>\n",
       "            <td>439</td>\n",
       "        </tr>\n",
       "        <tr>\n",
       "            <td>Purchased AAC audio file</td>\n",
       "            <td>35</td>\n",
       "        </tr>\n",
       "        <tr>\n",
       "            <td>AAC audio file</td>\n",
       "            <td>21</td>\n",
       "        </tr>\n",
       "        <tr>\n",
       "            <td>Protected MPEG-4 video file</td>\n",
       "            <td>3</td>\n",
       "        </tr>\n",
       "    </tbody>\n",
       "</table>"
      ],
      "text/plain": [
       "[('MPEG audio file', 4259),\n",
       " ('Protected AAC audio file', 439),\n",
       " ('Purchased AAC audio file', 35),\n",
       " ('AAC audio file', 21),\n",
       " ('Protected MPEG-4 video file', 3)]"
      ]
     },
     "execution_count": 9,
     "metadata": {},
     "output_type": "execute_result"
    }
   ],
   "source": [
    "%%sql\n",
    "SELECT mt.name, \n",
    "       COUNT(mt.media_type_id) total_sales\n",
    "FROM media_type mt\n",
    "INNER JOIN track t ON mt.media_type_id=t.media_type_id\n",
    "INNER JOIN invoice_line il ON t.track_id=il.track_id\n",
    "GROUP BY 1 \n",
    "ORDER BY 2 DESC;\n",
    "       "
   ]
  },
  {
   "cell_type": "markdown",
   "metadata": {},
   "source": [
    "**REMARK** Protected media type is less popular when compared to unproected media. It could be because copyright restriction. "
   ]
  }
 ],
 "metadata": {
  "kernelspec": {
   "display_name": "Python 3",
   "language": "python",
   "name": "python3"
  },
  "language_info": {
   "codemirror_mode": {
    "name": "ipython",
    "version": 3
   },
   "file_extension": ".py",
   "mimetype": "text/x-python",
   "name": "python",
   "nbconvert_exporter": "python",
   "pygments_lexer": "ipython3",
   "version": "3.7.3"
  }
 },
 "nbformat": 4,
 "nbformat_minor": 2
}
