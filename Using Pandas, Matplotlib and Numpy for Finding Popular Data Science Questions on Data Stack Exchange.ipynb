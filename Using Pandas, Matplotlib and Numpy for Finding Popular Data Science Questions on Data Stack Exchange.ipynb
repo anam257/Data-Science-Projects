{
 "cells": [
  {
   "cell_type": "markdown",
   "metadata": {},
   "source": [
    "# Popular Data Science Questions to find content for a company\n",
    "\n",
    "\n",
    "Our goal is to examine the content for Data Science in [Data Science Stack Exchange](https://datascience.stackexchange.com/) to determine content for our company.\n",
    "\n",
    "In this project we will figure out what data science questions are the most popular ones to be learned. To investigate this question, we're going to use [Stack Exchange](https://stackexchange.com), a question-and-answer website network, hosting 176 self-moderating sites on a great variety of fields, including data science, mathematics, programming, languages, travelling, music, etc.\n",
    "\n",
    "Stack Exchange employs a reputation award system for its questions, answers, and users. Each post is subject to upvotes and downvotes. This ensures that good posts are easily identifiable.\n",
    "\n",
    "Since data science is a multidisciplinary field, there are a few Stack Exchange websites that can be potentially relevant to our goal:\n",
    "- [Data Science](https://datascience.stackexchange.com)\n",
    "- [Stack Overflow](https://stackoverflow.com)\n",
    "- [Cross Validated](https://stats.stackexchange.com)\n",
    "- [Artificial Intelligence](https://ai.stackexchange.com)\n",
    "- [Mathematics](https://math.stackexchange.com)\n",
    "\n",
    "And, if to consider also data engineering:\n",
    "\n",
    "- [Database Administrators](https://dba.stackexchange.com)\n",
    "- [Unix & Linux](https://unix.stackexchange.com)\n",
    "- [Software Engineering](https://softwareengineering.stackexchange.com)\n",
    "\n",
    "On [this link](https://stackexchange.com/sites?view=list#percentanswered), we'll find a complete list of Stack Exchange websites sorted by % of answered questions. Currently, at the time of this writing (12.01.2021), Data Science Stack Exchange (DSSE) is on the 13th place from the bottom with respect to this metric, having only 67% of answered questions.\n",
    "\n",
    "The fact that DSSE is a site specialized exactly on data science (contrarily to the others), coupled with it having a high percentage of unanswered questions, makes it an ideal candidate for our investigation.\n"
   ]
  },
  {
   "cell_type": "markdown",
   "metadata": {},
   "source": [
    "## What kind of questions are welcome on this site?"
   ]
  },
  {
   "cell_type": "markdown",
   "metadata": {},
   "source": [
    "On DSSE's help center's section on [questions](https://datascience.stackexchange.com/help/how-to-ask) , we can read that we should:\n",
    "\n",
    "- Avoid subjective questions.\n",
    "- Ask practical questions about Data Science — there are adequate sites for theoretical questions.\n",
    "- Ask specific questions.\n",
    "- Make questions relevant to others.\n",
    "All of these characteristics, if employed, should be helpful attributes to our goal.\n",
    "\n",
    "In the help center we also learned that in addition to the sites mentioned in the Learn section, there are other two sites that are relevant:\n",
    "\n",
    "- [Open Data](https://opendata.stackexchange.com/help/on-topic)(Dataset requests)\n",
    "- [Computational Science](https://scicomp.stackexchange.com/help/on-topic) (Software packages and algorithms in applied mathematics)"
   ]
  },
  {
   "cell_type": "markdown",
   "metadata": {},
   "source": [
    "## What, other than questions, does DSSE's home subdivide into?\n",
    "On the home page we can see that we have four sections:\n",
    "\n",
    "- [Questions](https://opendata.stackexchange.com/questions) — a list of all questions asked;\n",
    "- [Tags](https://opendata.stackexchange.com/tags) — a list of tags (keywords or labels that categorize questions).Tagging the question in relavant tags helps to navigate and to answer questions easily.\n",
    "- [Users](https://opendata.stackexchange.com/users) — a list of users;\n",
    "- [Unanswered](https://opendata.stackexchange.com/unanswered) — a list of unanswered questions;\n",
    "The tagging system used by Stack Exchange looks just like what we need to solve this problem as it allow us to quantify how many questions are asked about each subject.\n",
    "\n",
    "Something else we can learn from exploring the help center, is that Stack Exchange's sites are heavily moderated by the community; this gives us some confidence in using the tagging system to derive conclusions."
   ]
  },
  {
   "cell_type": "markdown",
   "metadata": {},
   "source": [
    "## What information is available in each post?\n",
    "Looking, just as an example, at [this](https://datascience.stackexchange.com/questions/47768/can-i-forecast-with-discontinued-data-using-arima) question, some of the information we see is:\n",
    "- For questions only:\n",
    " - When was the question asked?\n",
    " - When was the question last edited\n",
    " - The last time the question as active;\n",
    " - How many views the question get\n",
    " - Share, follow and edit question section\n",
    " - Tags for the question\n",
    "\n",
    "- For both questions and answers:\n",
    " - The posts's score;\n",
    " - The posts's title;\n",
    " - The posts's author;\n",
    " - The posts's body;\n",
    " - Share, follow and edit answer section\n",
    " - comments section"
   ]
  },
  {
   "cell_type": "markdown",
   "metadata": {},
   "source": [
    "## Stack Exchange Data Explorer\n",
    "\n",
    "Stack Exchange provides a public database for each of its websites. To access and explore the public data of each particular site en masse, we have an open source tool available - [Stack Exchange Data Explorer (SEDE)](https://data.stackexchange.com/help). It uses a Microsoft's dialect of SQL called Transact-SQL.\n",
    "\n",
    "Here's a [link](https://data.stackexchange.com/datascience/query/new) to query and explore Data Science Stack Exchange's database. From the Database Schema,  we can see that the database contains the following 29 tables:\n",
    "- `Posts`\n",
    "- `Users`\n",
    "- `Comments`\n",
    "- `Badges`\n",
    "- `CloseAsOffTopicReasonTypes`\n",
    "- `CloseReasonTypes`\n",
    "- `FlagTypes`\n",
    "- `PendingFlags`\n",
    "- `PostFeedback`\n",
    "- `PostHistory`\n",
    "- `PostHistoryTypes`\n",
    "- `PostLinks`\n",
    "- `PostNotices`\n",
    "- `PostNoticeTypes`\n",
    "- `PostsWithDeleted`\n",
    "- `PostTags`\n",
    "- `PostTypes`\n",
    "- `ReviewRejectionReasons`\n",
    "- `ReviewTaskResults`\n",
    "- `ReviewTaskResultTypes`\n",
    "- `ReviewTasks`\n",
    "- `ReviewTaskStates`\n",
    "- `ReviewTaskTypes`\n",
    "- `SuggestedEdits`\n",
    "- `SuggestedEditVotes`\n",
    "- `Tags`\n",
    "- `TagSynonyms`\n",
    "- `Votes`\n",
    "- `VoteTypes`\n",
    "\n",
    "or, in the form of schema diagram:\n",
    "\n",
    "![tt](https://i.stack.imgur.com/AyIkW.png)\n",
    "\n",
    "To see the names and data types of the columns of each table, we can click on the table name in the Database Schema.\n",
    "\n",
    "Let's explore DSSE's data model and investigate a few of the tables. From the list above, the most promising tables seem to be the following ones (together with their column names, mostly self-explanatory):\n",
    "\n",
    "- **Posts**: `Id`, `PostTypeId`, `AcceptedAnswerId`, `ParentId`, `CreationDate`, `DeletionDate`, `Score`, `ViewCount`, `Body`, `OwnerUserId`, `OwnerDisplayName`, `LastEditorUserId`, `LastEditorDisplayName`, `LastEditDate`, `LastActivityDate`, `Title`, `Tags`, `AnswerCount`, `CommentCount`, `FavoriteCount`, `ClosedDate`, `CommunityOwnedDate`, `ContentLicense`.\n",
    "- **Tags**: `Id`, `TagName`, `Count`, `ExcerptPostId`, `WikiPostId`, `IsModeratorOnly`, `IsRequired`.\n",
    "- **TagSynonyms**: `Id`, `SourceTagName`, `TargetTagName`, `CreationDate`, `OwnerUserId`, `AutoRenameCount`, `LastAutoRename`, `Score`, `ApprovedByUserId`, `ApprovalDate`.\n",
    "\n",
    "\n",
    "#### Perusing the table names, a few stand out as relevant for our goal:\n",
    "\n",
    "- Posts\n",
    "- PostTags\n",
    "- Tags\n",
    "- TagSynonyms\n",
    "\n",
    "Running a few exploratory queries, leads us to focus our efforts on Posts table. \n",
    "\n",
    "For examples, the Tags table looked very promising as it tells us how many times each tag was used, but there's no way to tell just from this if the interest in these tags is recent or a thing from the past.Explore some of the questions that were asked.\n",
    "\n",
    "SELECT TOP 10 *\n",
    "  FROM tags\n",
    " ORDER BY Count DESC;\n",
    "\n",
    "\n",
    "Id |\tTagName|\tCount |\tExcerptPostId |\tWikiPostId\n",
    "--- | --- | --- |---|---\n",
    "2\t|machine-learning |\t6919 |\t4909 |\t4908 \n",
    "46 |\tpython |\t3907 |\t5523 |\t5522 \n",
    "81 |\tneural-network |\t2923 |\t8885 |\t8884 \n",
    "194 |\tdeep-learning |\t2786 |\t8956 |\t8955 \n",
    "77 |\tclassification |\t1899| \t4911 |\t4910 \n",
    "324 |\tkeras |\t1736 |\t9251 |\t9250 \n",
    "128 |\tscikit-learn |\t1303 |\t5896 |\t5895 \n",
    "321|\ttensorflow |\t1224 |\t9183 |\t9182 \n",
    "47 |\tnlp\t| 1162 |\t147 |\t146 \n",
    "24 |\tr |\t1114 |\t49 |\t48 "
   ]
  },
  {
   "cell_type": "code",
   "execution_count": 1,
   "metadata": {},
   "outputs": [
    {
     "name": "stdout",
     "output_type": "stream",
     "text": [
      "<class 'pandas.core.frame.DataFrame'>\n",
      "RangeIndex: 8839 entries, 0 to 8838\n",
      "Data columns (total 7 columns):\n",
      "Id               8839 non-null int64\n",
      "CreationDate     8839 non-null datetime64[ns]\n",
      "Score            8839 non-null int64\n",
      "ViewCount        8839 non-null int64\n",
      "Tags             8839 non-null object\n",
      "AnswerCount      8839 non-null int64\n",
      "FavoriteCount    1407 non-null float64\n",
      "dtypes: datetime64[ns](1), float64(1), int64(4), object(1)\n",
      "memory usage: 483.5+ KB\n"
     ]
    }
   ],
   "source": [
    "# We import everything that we'll use\n",
    "\n",
    "import pandas as pd\n",
    "import matplotlib.pyplot as plt\n",
    "import seaborn as sns\n",
    "import numpy as np\n",
    "%matplotlib inline\n",
    "\n",
    "questions = pd.read_csv(\"2019_questions.csv\", parse_dates=[\"CreationDate\"])\n",
    "\n",
    "questions.info()\n"
   ]
  },
  {
   "cell_type": "markdown",
   "metadata": {},
   "source": [
    "**REMARK:** We see that FavoriteCount column has missing values.That means that question was not favored in user's  favorite list. So, we can replace those missing values with 0. Also, we can change the data type of FavoriteCount column to integer type as it's more appropriate after replacing the missing values with zero.\n",
    "\n",
    "Also, lets examine the type of the Tags column. Since the object dtype is a catch-all type, let's see what types the objects in questions[\"Tags\"] are.\n"
   ]
  },
  {
   "cell_type": "code",
   "execution_count": 2,
   "metadata": {
    "scrolled": true
   },
   "outputs": [
    {
     "data": {
      "text/plain": [
       "array([<class 'str'>], dtype=object)"
      ]
     },
     "execution_count": 2,
     "metadata": {},
     "output_type": "execute_result"
    }
   ],
   "source": [
    "questions[\"Tags\"].apply(lambda value: type(value)).unique()"
   ]
  },
  {
   "cell_type": "code",
   "execution_count": 3,
   "metadata": {},
   "outputs": [
    {
     "name": "stdout",
     "output_type": "stream",
     "text": [
      "<python><time-series><forecast><forecasting>\n"
     ]
    }
   ],
   "source": [
    "print(questions[\"Tags\"][2])"
   ]
  },
  {
   "cell_type": "markdown",
   "metadata": {},
   "source": [
    "The values in this column are string type. On Stack Exchange, Each question can be tagged with 5 Tags. So, it's better to separate tags from 1-5 (like Tag1,Tag2,Tag3,Tag4 and Tag5) for a each question.\n",
    "\n",
    "## Cleaning the Data"
   ]
  },
  {
   "cell_type": "code",
   "execution_count": 4,
   "metadata": {},
   "outputs": [
    {
     "data": {
      "text/plain": [
       "Id                        int64\n",
       "CreationDate     datetime64[ns]\n",
       "Score                     int64\n",
       "ViewCount                 int64\n",
       "Tags                     object\n",
       "AnswerCount               int64\n",
       "FavoriteCount             int32\n",
       "dtype: object"
      ]
     },
     "execution_count": 4,
     "metadata": {},
     "output_type": "execute_result"
    }
   ],
   "source": [
    "# Fill Nan values\n",
    "questions.fillna(value={\"FavoriteCount\": 0}, inplace=True)\n",
    "\n",
    "\n",
    "questions[\"FavoriteCount\"] = questions[\"FavoriteCount\"].astype(int)\n",
    "questions.dtypes"
   ]
  },
  {
   "cell_type": "code",
   "execution_count": 5,
   "metadata": {},
   "outputs": [
    {
     "data": {
      "text/plain": [
       "0                      <machine-learning><data-mining>\n",
       "1    <machine-learning><regression><linear-regressi...\n",
       "2         <python><time-series><forecast><forecasting>\n",
       "3                <machine-learning><scikit-learn><pca>\n",
       "4             <dataset><bigdata><data><speech-to-text>\n",
       "5                                        <fuzzy-logic>\n",
       "6    <time-series><anomaly-detection><online-learning>\n",
       "7                               <matrix-factorisation>\n",
       "8                <correlation><naive-bayes-classifier>\n",
       "9    <machine-learning><python><deep-learning><kera...\n",
       "Name: Tags, dtype: object"
      ]
     },
     "execution_count": 5,
     "metadata": {},
     "output_type": "execute_result"
    }
   ],
   "source": [
    "questions[\"Tags\"].head(10)"
   ]
  },
  {
   "cell_type": "code",
   "execution_count": 6,
   "metadata": {},
   "outputs": [
    {
     "data": {
      "text/plain": [
       "0                      [machine-learning, data-mining]\n",
       "1    [machine-learning, regression, linear-regressi...\n",
       "2         [python, time-series, forecast, forecasting]\n",
       "3                [machine-learning, scikit-learn, pca]\n",
       "4             [dataset, bigdata, data, speech-to-text]\n",
       "5                                        [fuzzy-logic]\n",
       "6    [time-series, anomaly-detection, online-learning]\n",
       "7                               [matrix-factorisation]\n",
       "8                [correlation, naive-bayes-classifier]\n",
       "9    [machine-learning, python, deep-learning, kera...\n",
       "Name: Tags, dtype: object"
      ]
     },
     "execution_count": 6,
     "metadata": {},
     "output_type": "execute_result"
    }
   ],
   "source": [
    "# Transform tags column into list of tags\n",
    "\n",
    "\n",
    "questions[\"Tags\"] = questions[\"Tags\"].str.replace(\"^<|>$\", \"\").str.split(\"><\")\n",
    "questions[\"Tags\"].head(10)"
   ]
  },
  {
   "cell_type": "markdown",
   "metadata": {},
   "source": [
    "# Data Analysis \n",
    "\n",
    "### Frequency of tags used in posts\n",
    "The tags column will be very useful for this as they tell us what the topic of each post is. let's start by taking a look at the most common tags:"
   ]
  },
  {
   "cell_type": "code",
   "execution_count": 7,
   "metadata": {
    "scrolled": true
   },
   "outputs": [
    {
     "data": {
      "text/plain": [
       "Text(0.5, 0, 'Count')"
      ]
     },
     "execution_count": 7,
     "metadata": {},
     "output_type": "execute_result"
    },
    {
     "data": {
      "image/png": "[encoded data removed]",
      "text/plain": [
       "<Figure size 432x288 with 1 Axes>"
      ]
     },
     "metadata": {
      "needs_background": "light"
     },
     "output_type": "display_data"
    }
   ],
   "source": [
    "# Calculate number of posts for each tag\n",
    "tag_count = dict()\n",
    "\n",
    "for tags in questions[\"Tags\"]:\n",
    "    for tag in tags:\n",
    "        if tag in tag_count:\n",
    "            tag_count[tag] += 1\n",
    "        else:\n",
    "            tag_count[tag] = 1\n",
    "\n",
    "# Transform frequencies into pandas series\n",
    "tag_count_series = pd.Series(tag_count, name=\"Count\")\n",
    "\n",
    "# Sort values\n",
    "tag_count_series = tag_count_series.sort_values(ascending=False)\n",
    "# Filter top 20 tags\n",
    "most_used = tag_count_series[:20]\n",
    "# Plot in a bar chart\n",
    "ax = most_used.plot.barh()\n",
    "ax.set_title(\"Tag Counts\")\n",
    "ax.set_ylabel(\"Tags\")\n",
    "ax.set_xlabel(\"Count\")"
   ]
  },
  {
   "cell_type": "markdown",
   "metadata": {},
   "source": [
    "We can see from the graph above that the most popular tag is Machine learning followed by python, with deep learning, neural network and Keras all popular as well.\n",
    "\n",
    "## Frequency of each tag that was viewed\n",
    "\n",
    "**Now to take a look at how many views each of the posts with these tags get. Just because there are a lot of questions involving these tags does not mean that they attract a lot of attention.**"
   ]
  },
  {
   "cell_type": "code",
   "execution_count": 8,
   "metadata": {
    "scrolled": true
   },
   "outputs": [
    {
     "data": {
      "text/html": [
       "<div>\n",
       "<style scoped>\n",
       "    .dataframe tbody tr th:only-of-type {\n",
       "        vertical-align: middle;\n",
       "    }\n",
       "\n",
       "    .dataframe tbody tr th {\n",
       "        vertical-align: top;\n",
       "    }\n",
       "\n",
       "    .dataframe thead th {\n",
       "        text-align: right;\n",
       "    }\n",
       "</style>\n",
       "<table border=\"1\" class=\"dataframe\">\n",
       "  <thead>\n",
       "    <tr style=\"text-align: right;\">\n",
       "      <th></th>\n",
       "      <th>Id</th>\n",
       "      <th>CreationDate</th>\n",
       "      <th>Score</th>\n",
       "      <th>ViewCount</th>\n",
       "      <th>Tags</th>\n",
       "      <th>AnswerCount</th>\n",
       "      <th>FavoriteCount</th>\n",
       "    </tr>\n",
       "  </thead>\n",
       "  <tbody>\n",
       "    <tr>\n",
       "      <th>0</th>\n",
       "      <td>44419</td>\n",
       "      <td>2019-01-23 09:21:00</td>\n",
       "      <td>1</td>\n",
       "      <td>21</td>\n",
       "      <td>[machine-learning, data-mining]</td>\n",
       "      <td>0</td>\n",
       "      <td>0</td>\n",
       "    </tr>\n",
       "    <tr>\n",
       "      <th>1</th>\n",
       "      <td>44420</td>\n",
       "      <td>2019-01-23 09:34:00</td>\n",
       "      <td>0</td>\n",
       "      <td>25</td>\n",
       "      <td>[machine-learning, regression, linear-regressi...</td>\n",
       "      <td>0</td>\n",
       "      <td>0</td>\n",
       "    </tr>\n",
       "    <tr>\n",
       "      <th>2</th>\n",
       "      <td>44423</td>\n",
       "      <td>2019-01-23 09:58:00</td>\n",
       "      <td>2</td>\n",
       "      <td>1651</td>\n",
       "      <td>[python, time-series, forecast, forecasting]</td>\n",
       "      <td>0</td>\n",
       "      <td>0</td>\n",
       "    </tr>\n",
       "    <tr>\n",
       "      <th>3</th>\n",
       "      <td>44427</td>\n",
       "      <td>2019-01-23 10:57:00</td>\n",
       "      <td>0</td>\n",
       "      <td>55</td>\n",
       "      <td>[machine-learning, scikit-learn, pca]</td>\n",
       "      <td>1</td>\n",
       "      <td>0</td>\n",
       "    </tr>\n",
       "    <tr>\n",
       "      <th>4</th>\n",
       "      <td>44428</td>\n",
       "      <td>2019-01-23 11:02:00</td>\n",
       "      <td>0</td>\n",
       "      <td>19</td>\n",
       "      <td>[dataset, bigdata, data, speech-to-text]</td>\n",
       "      <td>0</td>\n",
       "      <td>0</td>\n",
       "    </tr>\n",
       "  </tbody>\n",
       "</table>\n",
       "</div>"
      ],
      "text/plain": [
       "      Id        CreationDate  Score  ViewCount  \\\n",
       "0  44419 2019-01-23 09:21:00      1         21   \n",
       "1  44420 2019-01-23 09:34:00      0         25   \n",
       "2  44423 2019-01-23 09:58:00      2       1651   \n",
       "3  44427 2019-01-23 10:57:00      0         55   \n",
       "4  44428 2019-01-23 11:02:00      0         19   \n",
       "\n",
       "                                                Tags  AnswerCount  \\\n",
       "0                    [machine-learning, data-mining]            0   \n",
       "1  [machine-learning, regression, linear-regressi...            0   \n",
       "2       [python, time-series, forecast, forecasting]            0   \n",
       "3              [machine-learning, scikit-learn, pca]            1   \n",
       "4           [dataset, bigdata, data, speech-to-text]            0   \n",
       "\n",
       "   FavoriteCount  \n",
       "0              0  \n",
       "1              0  \n",
       "2              0  \n",
       "3              0  \n",
       "4              0  "
      ]
     },
     "execution_count": 8,
     "metadata": {},
     "output_type": "execute_result"
    }
   ],
   "source": [
    "questions.head()"
   ]
  },
  {
   "cell_type": "code",
   "execution_count": 9,
   "metadata": {
    "scrolled": true
   },
   "outputs": [
    {
     "data": {
      "text/plain": [
       "<matplotlib.axes._subplots.AxesSubplot at 0x1a37cfee320>"
      ]
     },
     "execution_count": 9,
     "metadata": {},
     "output_type": "execute_result"
    },
    {
     "data": {
      "image/png": "[encoded data removed]",
      "text/plain": [
       "<Figure size 1152x576 with 1 Axes>"
      ]
     },
     "metadata": {
      "needs_background": "light"
     },
     "output_type": "display_data"
    }
   ],
   "source": [
    "tag_view_count = dict()\n",
    "\n",
    "for index, row in questions.iterrows():\n",
    "    for tag in row['Tags']:\n",
    "        if tag in tag_view_count:\n",
    "            tag_view_count[tag] += row['ViewCount']\n",
    "        else:\n",
    "            tag_view_count[tag] = row['ViewCount']\n",
    "            \n",
    "tag_view_count = pd.DataFrame.from_dict(tag_view_count, orient=\"index\")\n",
    "tag_view_count.rename(columns={0: \"ViewCount\"}, inplace=True)\n",
    "\n",
    "most_viewed = tag_view_count.sort_values(by=\"ViewCount\").tail(20)\n",
    "\n",
    "most_viewed.plot(kind=\"barh\", figsize=(16,8))"
   ]
  },
  {
   "cell_type": "markdown",
   "metadata": {},
   "source": [
    "This time top five most viewed tags are Python, Machine-learning, Keras, Deep learning and Pandas. We see that Pandas has jumped up from the 13th most posts to the 5th most views. This indicates that Pandas posts must generate a lot of interest. "
   ]
  },
  {
   "cell_type": "markdown",
   "metadata": {},
   "source": [
    "## Merging frequencies together\n",
    "\n",
    "Let's see what tags are in most_used, but not in most_viewed. We can identify them by the missing values in ViewCount below."
   ]
  },
  {
   "cell_type": "code",
   "execution_count": 10,
   "metadata": {
    "scrolled": true
   },
   "outputs": [
    {
     "data": {
      "text/html": [
       "<div>\n",
       "<style scoped>\n",
       "    .dataframe tbody tr th:only-of-type {\n",
       "        vertical-align: middle;\n",
       "    }\n",
       "\n",
       "    .dataframe tbody tr th {\n",
       "        vertical-align: top;\n",
       "    }\n",
       "\n",
       "    .dataframe thead th {\n",
       "        text-align: right;\n",
       "    }\n",
       "</style>\n",
       "<table border=\"1\" class=\"dataframe\">\n",
       "  <thead>\n",
       "    <tr style=\"text-align: right;\">\n",
       "      <th></th>\n",
       "      <th>Count</th>\n",
       "      <th>ViewCount</th>\n",
       "    </tr>\n",
       "  </thead>\n",
       "  <tbody>\n",
       "    <tr>\n",
       "      <th>machine-learning</th>\n",
       "      <td>2693</td>\n",
       "      <td>388499.0</td>\n",
       "    </tr>\n",
       "    <tr>\n",
       "      <th>python</th>\n",
       "      <td>1814</td>\n",
       "      <td>537585.0</td>\n",
       "    </tr>\n",
       "    <tr>\n",
       "      <th>deep-learning</th>\n",
       "      <td>1220</td>\n",
       "      <td>233628.0</td>\n",
       "    </tr>\n",
       "    <tr>\n",
       "      <th>neural-network</th>\n",
       "      <td>1055</td>\n",
       "      <td>185367.0</td>\n",
       "    </tr>\n",
       "    <tr>\n",
       "      <th>keras</th>\n",
       "      <td>935</td>\n",
       "      <td>268608.0</td>\n",
       "    </tr>\n",
       "    <tr>\n",
       "      <th>classification</th>\n",
       "      <td>685</td>\n",
       "      <td>104457.0</td>\n",
       "    </tr>\n",
       "    <tr>\n",
       "      <th>tensorflow</th>\n",
       "      <td>584</td>\n",
       "      <td>121369.0</td>\n",
       "    </tr>\n",
       "    <tr>\n",
       "      <th>scikit-learn</th>\n",
       "      <td>540</td>\n",
       "      <td>128110.0</td>\n",
       "    </tr>\n",
       "    <tr>\n",
       "      <th>nlp</th>\n",
       "      <td>493</td>\n",
       "      <td>71382.0</td>\n",
       "    </tr>\n",
       "    <tr>\n",
       "      <th>cnn</th>\n",
       "      <td>489</td>\n",
       "      <td>70349.0</td>\n",
       "    </tr>\n",
       "    <tr>\n",
       "      <th>time-series</th>\n",
       "      <td>466</td>\n",
       "      <td>64134.0</td>\n",
       "    </tr>\n",
       "    <tr>\n",
       "      <th>lstm</th>\n",
       "      <td>402</td>\n",
       "      <td>74458.0</td>\n",
       "    </tr>\n",
       "    <tr>\n",
       "      <th>pandas</th>\n",
       "      <td>354</td>\n",
       "      <td>201787.0</td>\n",
       "    </tr>\n",
       "    <tr>\n",
       "      <th>regression</th>\n",
       "      <td>347</td>\n",
       "      <td>49451.0</td>\n",
       "    </tr>\n",
       "    <tr>\n",
       "      <th>dataset</th>\n",
       "      <td>340</td>\n",
       "      <td>43151.0</td>\n",
       "    </tr>\n",
       "    <tr>\n",
       "      <th>r</th>\n",
       "      <td>268</td>\n",
       "      <td>NaN</td>\n",
       "    </tr>\n",
       "    <tr>\n",
       "      <th>predictive-modeling</th>\n",
       "      <td>265</td>\n",
       "      <td>NaN</td>\n",
       "    </tr>\n",
       "    <tr>\n",
       "      <th>clustering</th>\n",
       "      <td>257</td>\n",
       "      <td>33928.0</td>\n",
       "    </tr>\n",
       "    <tr>\n",
       "      <th>statistics</th>\n",
       "      <td>234</td>\n",
       "      <td>NaN</td>\n",
       "    </tr>\n",
       "    <tr>\n",
       "      <th>machine-learning-model</th>\n",
       "      <td>224</td>\n",
       "      <td>NaN</td>\n",
       "    </tr>\n",
       "  </tbody>\n",
       "</table>\n",
       "</div>"
      ],
      "text/plain": [
       "                        Count  ViewCount\n",
       "machine-learning         2693   388499.0\n",
       "python                   1814   537585.0\n",
       "deep-learning            1220   233628.0\n",
       "neural-network           1055   185367.0\n",
       "keras                     935   268608.0\n",
       "classification            685   104457.0\n",
       "tensorflow                584   121369.0\n",
       "scikit-learn              540   128110.0\n",
       "nlp                       493    71382.0\n",
       "cnn                       489    70349.0\n",
       "time-series               466    64134.0\n",
       "lstm                      402    74458.0\n",
       "pandas                    354   201787.0\n",
       "regression                347    49451.0\n",
       "dataset                   340    43151.0\n",
       "r                         268        NaN\n",
       "predictive-modeling       265        NaN\n",
       "clustering                257    33928.0\n",
       "statistics                234        NaN\n",
       "machine-learning-model    224        NaN"
      ]
     },
     "execution_count": 10,
     "metadata": {},
     "output_type": "execute_result"
    }
   ],
   "source": [
    "in_used = pd.merge(most_used, most_viewed, how=\"left\", left_index=True, right_index=True)\n",
    "in_used"
   ]
  },
  {
   "cell_type": "markdown",
   "metadata": {},
   "source": [
    "The tags present in most_used and not present in most_viewed are:\n",
    "\n",
    "- machine-learning-model\n",
    "- statistics\n",
    "- predictive-modeling\n",
    "- r\n",
    "\n",
    "And the tags present in most_viewed but not in most_used are:\n",
    "\n",
    "- csv\n",
    "- pytorch\n",
    "- dataframe"
   ]
  },
  {
   "cell_type": "code",
   "execution_count": 11,
   "metadata": {
    "scrolled": false
   },
   "outputs": [
    {
     "data": {
      "text/html": [
       "<div>\n",
       "<style scoped>\n",
       "    .dataframe tbody tr th:only-of-type {\n",
       "        vertical-align: middle;\n",
       "    }\n",
       "\n",
       "    .dataframe tbody tr th {\n",
       "        vertical-align: top;\n",
       "    }\n",
       "\n",
       "    .dataframe thead th {\n",
       "        text-align: right;\n",
       "    }\n",
       "</style>\n",
       "<table border=\"1\" class=\"dataframe\">\n",
       "  <thead>\n",
       "    <tr style=\"text-align: right;\">\n",
       "      <th></th>\n",
       "      <th>Count</th>\n",
       "      <th>ViewCount</th>\n",
       "    </tr>\n",
       "  </thead>\n",
       "  <tbody>\n",
       "    <tr>\n",
       "      <th>machine-learning</th>\n",
       "      <td>2693</td>\n",
       "      <td>388499.0</td>\n",
       "    </tr>\n",
       "    <tr>\n",
       "      <th>python</th>\n",
       "      <td>1814</td>\n",
       "      <td>537585.0</td>\n",
       "    </tr>\n",
       "    <tr>\n",
       "      <th>deep-learning</th>\n",
       "      <td>1220</td>\n",
       "      <td>233628.0</td>\n",
       "    </tr>\n",
       "    <tr>\n",
       "      <th>neural-network</th>\n",
       "      <td>1055</td>\n",
       "      <td>185367.0</td>\n",
       "    </tr>\n",
       "    <tr>\n",
       "      <th>keras</th>\n",
       "      <td>935</td>\n",
       "      <td>268608.0</td>\n",
       "    </tr>\n",
       "    <tr>\n",
       "      <th>classification</th>\n",
       "      <td>685</td>\n",
       "      <td>104457.0</td>\n",
       "    </tr>\n",
       "    <tr>\n",
       "      <th>tensorflow</th>\n",
       "      <td>584</td>\n",
       "      <td>121369.0</td>\n",
       "    </tr>\n",
       "    <tr>\n",
       "      <th>scikit-learn</th>\n",
       "      <td>540</td>\n",
       "      <td>128110.0</td>\n",
       "    </tr>\n",
       "    <tr>\n",
       "      <th>nlp</th>\n",
       "      <td>493</td>\n",
       "      <td>71382.0</td>\n",
       "    </tr>\n",
       "    <tr>\n",
       "      <th>cnn</th>\n",
       "      <td>489</td>\n",
       "      <td>70349.0</td>\n",
       "    </tr>\n",
       "    <tr>\n",
       "      <th>time-series</th>\n",
       "      <td>466</td>\n",
       "      <td>64134.0</td>\n",
       "    </tr>\n",
       "    <tr>\n",
       "      <th>lstm</th>\n",
       "      <td>402</td>\n",
       "      <td>74458.0</td>\n",
       "    </tr>\n",
       "    <tr>\n",
       "      <th>pandas</th>\n",
       "      <td>354</td>\n",
       "      <td>201787.0</td>\n",
       "    </tr>\n",
       "    <tr>\n",
       "      <th>regression</th>\n",
       "      <td>347</td>\n",
       "      <td>49451.0</td>\n",
       "    </tr>\n",
       "    <tr>\n",
       "      <th>dataset</th>\n",
       "      <td>340</td>\n",
       "      <td>43151.0</td>\n",
       "    </tr>\n",
       "    <tr>\n",
       "      <th>r</th>\n",
       "      <td>268</td>\n",
       "      <td>NaN</td>\n",
       "    </tr>\n",
       "    <tr>\n",
       "      <th>predictive-modeling</th>\n",
       "      <td>265</td>\n",
       "      <td>NaN</td>\n",
       "    </tr>\n",
       "    <tr>\n",
       "      <th>clustering</th>\n",
       "      <td>257</td>\n",
       "      <td>33928.0</td>\n",
       "    </tr>\n",
       "    <tr>\n",
       "      <th>statistics</th>\n",
       "      <td>234</td>\n",
       "      <td>NaN</td>\n",
       "    </tr>\n",
       "    <tr>\n",
       "      <th>machine-learning-model</th>\n",
       "      <td>224</td>\n",
       "      <td>NaN</td>\n",
       "    </tr>\n",
       "  </tbody>\n",
       "</table>\n",
       "</div>"
      ],
      "text/plain": [
       "                        Count  ViewCount\n",
       "machine-learning         2693   388499.0\n",
       "python                   1814   537585.0\n",
       "deep-learning            1220   233628.0\n",
       "neural-network           1055   185367.0\n",
       "keras                     935   268608.0\n",
       "classification            685   104457.0\n",
       "tensorflow                584   121369.0\n",
       "scikit-learn              540   128110.0\n",
       "nlp                       493    71382.0\n",
       "cnn                       489    70349.0\n",
       "time-series               466    64134.0\n",
       "lstm                      402    74458.0\n",
       "pandas                    354   201787.0\n",
       "regression                347    49451.0\n",
       "dataset                   340    43151.0\n",
       "r                         268        NaN\n",
       "predictive-modeling       265        NaN\n",
       "clustering                257    33928.0\n",
       "statistics                234        NaN\n",
       "machine-learning-model    224        NaN"
      ]
     },
     "execution_count": 11,
     "metadata": {},
     "output_type": "execute_result"
    }
   ],
   "source": [
    "in_viewed = pd.merge(most_used, most_viewed, how=\"left\", left_index=True, right_index=True)\n",
    "in_viewed"
   ]
  },
  {
   "cell_type": "markdown",
   "metadata": {},
   "source": [
    "The tags present in most_used and not present in most_viewed are:\n",
    "\n",
    "- machine-learning-model\n",
    "- statistics\n",
    "- predictive-modeling\n",
    "- r\n",
    "\n",
    "And the tags present in most_viewed but not in most_used are:\n",
    "\n",
    "- csv\n",
    "- pytorch\n",
    "- dataframe"
   ]
  },
  {
   "cell_type": "code",
   "execution_count": 12,
   "metadata": {
    "scrolled": true
   },
   "outputs": [
    {
     "data": {
      "text/html": [
       "<div>\n",
       "<style scoped>\n",
       "    .dataframe tbody tr th:only-of-type {\n",
       "        vertical-align: middle;\n",
       "    }\n",
       "\n",
       "    .dataframe tbody tr th {\n",
       "        vertical-align: top;\n",
       "    }\n",
       "\n",
       "    .dataframe thead th {\n",
       "        text-align: right;\n",
       "    }\n",
       "</style>\n",
       "<table border=\"1\" class=\"dataframe\">\n",
       "  <thead>\n",
       "    <tr style=\"text-align: right;\">\n",
       "      <th></th>\n",
       "      <th>Count</th>\n",
       "      <th>ViewCount</th>\n",
       "    </tr>\n",
       "  </thead>\n",
       "  <tbody>\n",
       "    <tr>\n",
       "      <th>machine-learning</th>\n",
       "      <td>2693</td>\n",
       "      <td>388499</td>\n",
       "    </tr>\n",
       "    <tr>\n",
       "      <th>python</th>\n",
       "      <td>1814</td>\n",
       "      <td>537585</td>\n",
       "    </tr>\n",
       "    <tr>\n",
       "      <th>deep-learning</th>\n",
       "      <td>1220</td>\n",
       "      <td>233628</td>\n",
       "    </tr>\n",
       "    <tr>\n",
       "      <th>neural-network</th>\n",
       "      <td>1055</td>\n",
       "      <td>185367</td>\n",
       "    </tr>\n",
       "    <tr>\n",
       "      <th>keras</th>\n",
       "      <td>935</td>\n",
       "      <td>268608</td>\n",
       "    </tr>\n",
       "    <tr>\n",
       "      <th>classification</th>\n",
       "      <td>685</td>\n",
       "      <td>104457</td>\n",
       "    </tr>\n",
       "    <tr>\n",
       "      <th>tensorflow</th>\n",
       "      <td>584</td>\n",
       "      <td>121369</td>\n",
       "    </tr>\n",
       "    <tr>\n",
       "      <th>scikit-learn</th>\n",
       "      <td>540</td>\n",
       "      <td>128110</td>\n",
       "    </tr>\n",
       "    <tr>\n",
       "      <th>nlp</th>\n",
       "      <td>493</td>\n",
       "      <td>71382</td>\n",
       "    </tr>\n",
       "    <tr>\n",
       "      <th>cnn</th>\n",
       "      <td>489</td>\n",
       "      <td>70349</td>\n",
       "    </tr>\n",
       "    <tr>\n",
       "      <th>time-series</th>\n",
       "      <td>466</td>\n",
       "      <td>64134</td>\n",
       "    </tr>\n",
       "    <tr>\n",
       "      <th>lstm</th>\n",
       "      <td>402</td>\n",
       "      <td>74458</td>\n",
       "    </tr>\n",
       "    <tr>\n",
       "      <th>pandas</th>\n",
       "      <td>354</td>\n",
       "      <td>201787</td>\n",
       "    </tr>\n",
       "    <tr>\n",
       "      <th>regression</th>\n",
       "      <td>347</td>\n",
       "      <td>49451</td>\n",
       "    </tr>\n",
       "    <tr>\n",
       "      <th>dataset</th>\n",
       "      <td>340</td>\n",
       "      <td>43151</td>\n",
       "    </tr>\n",
       "    <tr>\n",
       "      <th>clustering</th>\n",
       "      <td>257</td>\n",
       "      <td>33928</td>\n",
       "    </tr>\n",
       "  </tbody>\n",
       "</table>\n",
       "</div>"
      ],
      "text/plain": [
       "                  Count  ViewCount\n",
       "machine-learning   2693     388499\n",
       "python             1814     537585\n",
       "deep-learning      1220     233628\n",
       "neural-network     1055     185367\n",
       "keras               935     268608\n",
       "classification      685     104457\n",
       "tensorflow          584     121369\n",
       "scikit-learn        540     128110\n",
       "nlp                 493      71382\n",
       "cnn                 489      70349\n",
       "time-series         466      64134\n",
       "lstm                402      74458\n",
       "pandas              354     201787\n",
       "regression          347      49451\n",
       "dataset             340      43151\n",
       "clustering          257      33928"
      ]
     },
     "execution_count": 12,
     "metadata": {},
     "output_type": "execute_result"
    }
   ],
   "source": [
    "# Merge frequency series together\n",
    "merged_frequencies = pd.merge(most_used, most_viewed, how=\"inner\", left_index=True, right_index=True)\n",
    "merged_frequencies"
   ]
  },
  {
   "cell_type": "markdown",
   "metadata": {},
   "source": [
    "# Relationship between tags\n",
    "\n",
    "[Dealing with List Values in Pandas Dataframes](https://towardsdatascience.com/dealing-with-list-values-in-pandas-dataframes-a177e534f173) is an interesting article which tell how to process list values in dataframe and visualize the data.\n",
    "\n",
    "Let's follow following steps to generate heatmap to look for correlation between tags\n",
    "- extract all the tags\n",
    "- create a dataframe where each row will represent a tag, and each column as well.\n",
    "    - Fill values with 0\n",
    "- for loop to count tags occurance in each row of the dataset\n",
    "    - for each lists of tags in questions[\"Tags\"], we will increment the intervening tags by one.\n",
    "- Extract most_used tags values\n",
    "- create heatmap\n"
   ]
  },
  {
   "cell_type": "code",
   "execution_count": 35,
   "metadata": {
    "scrolled": true
   },
   "outputs": [
    {
     "data": {
      "text/html": [
       "<div>\n",
       "<style scoped>\n",
       "    .dataframe tbody tr th:only-of-type {\n",
       "        vertical-align: middle;\n",
       "    }\n",
       "\n",
       "    .dataframe tbody tr th {\n",
       "        vertical-align: top;\n",
       "    }\n",
       "\n",
       "    .dataframe thead th {\n",
       "        text-align: right;\n",
       "    }\n",
       "</style>\n",
       "<table border=\"1\" class=\"dataframe\">\n",
       "  <thead>\n",
       "    <tr style=\"text-align: right;\">\n",
       "      <th></th>\n",
       "      <th>machine-learning</th>\n",
       "      <th>python</th>\n",
       "      <th>deep-learning</th>\n",
       "      <th>neural-network</th>\n",
       "      <th>keras</th>\n",
       "      <th>classification</th>\n",
       "      <th>tensorflow</th>\n",
       "      <th>scikit-learn</th>\n",
       "      <th>nlp</th>\n",
       "      <th>cnn</th>\n",
       "      <th>...</th>\n",
       "      <th>marginal-effects</th>\n",
       "      <th>hurdle-model</th>\n",
       "      <th>least-squares-svm</th>\n",
       "      <th>proximal-svm</th>\n",
       "      <th>cs231n</th>\n",
       "      <th>statsmodels</th>\n",
       "      <th>rdkit</th>\n",
       "      <th>apache-nifi</th>\n",
       "      <th>activation</th>\n",
       "      <th>kitti-dataset</th>\n",
       "    </tr>\n",
       "  </thead>\n",
       "  <tbody>\n",
       "    <tr>\n",
       "      <th>machine-learning</th>\n",
       "      <td>NaN</td>\n",
       "      <td>NaN</td>\n",
       "      <td>NaN</td>\n",
       "      <td>NaN</td>\n",
       "      <td>NaN</td>\n",
       "      <td>NaN</td>\n",
       "      <td>NaN</td>\n",
       "      <td>NaN</td>\n",
       "      <td>NaN</td>\n",
       "      <td>NaN</td>\n",
       "      <td>...</td>\n",
       "      <td>NaN</td>\n",
       "      <td>NaN</td>\n",
       "      <td>NaN</td>\n",
       "      <td>NaN</td>\n",
       "      <td>NaN</td>\n",
       "      <td>NaN</td>\n",
       "      <td>NaN</td>\n",
       "      <td>NaN</td>\n",
       "      <td>NaN</td>\n",
       "      <td>NaN</td>\n",
       "    </tr>\n",
       "    <tr>\n",
       "      <th>python</th>\n",
       "      <td>NaN</td>\n",
       "      <td>NaN</td>\n",
       "      <td>NaN</td>\n",
       "      <td>NaN</td>\n",
       "      <td>NaN</td>\n",
       "      <td>NaN</td>\n",
       "      <td>NaN</td>\n",
       "      <td>NaN</td>\n",
       "      <td>NaN</td>\n",
       "      <td>NaN</td>\n",
       "      <td>...</td>\n",
       "      <td>NaN</td>\n",
       "      <td>NaN</td>\n",
       "      <td>NaN</td>\n",
       "      <td>NaN</td>\n",
       "      <td>NaN</td>\n",
       "      <td>NaN</td>\n",
       "      <td>NaN</td>\n",
       "      <td>NaN</td>\n",
       "      <td>NaN</td>\n",
       "      <td>NaN</td>\n",
       "    </tr>\n",
       "  </tbody>\n",
       "</table>\n",
       "<p>2 rows × 526 columns</p>\n",
       "</div>"
      ],
      "text/plain": [
       "                 machine-learning python deep-learning neural-network keras  \\\n",
       "machine-learning              NaN    NaN           NaN            NaN   NaN   \n",
       "python                        NaN    NaN           NaN            NaN   NaN   \n",
       "\n",
       "                 classification tensorflow scikit-learn  nlp  cnn  ...  \\\n",
       "machine-learning            NaN        NaN          NaN  NaN  NaN  ...   \n",
       "python                      NaN        NaN          NaN  NaN  NaN  ...   \n",
       "\n",
       "                 marginal-effects hurdle-model least-squares-svm proximal-svm  \\\n",
       "machine-learning              NaN          NaN               NaN          NaN   \n",
       "python                        NaN          NaN               NaN          NaN   \n",
       "\n",
       "                 cs231n statsmodels rdkit apache-nifi activation kitti-dataset  \n",
       "machine-learning    NaN         NaN   NaN         NaN        NaN           NaN  \n",
       "python              NaN         NaN   NaN         NaN        NaN           NaN  \n",
       "\n",
       "[2 rows x 526 columns]"
      ]
     },
     "execution_count": 35,
     "metadata": {},
     "output_type": "execute_result"
    }
   ],
   "source": [
    "all_tags=list(tag_count_series.index)\n",
    "# Create a dataframe with tags in index and columns\n",
    "relations_most_used = pd.DataFrame(index=all_tags, columns=all_tags)\n",
    "relations_most_used.head(2)"
   ]
  },
  {
   "cell_type": "code",
   "execution_count": 37,
   "metadata": {
    "scrolled": false
   },
   "outputs": [],
   "source": [
    "# fill dataframe with zeros\n",
    "relations_most_used.fillna(0, inplace=True)"
   ]
  },
  {
   "cell_type": "code",
   "execution_count": 38,
   "metadata": {
    "scrolled": true
   },
   "outputs": [],
   "source": [
    "# tell how many times each pair of tags were used together.\n",
    "\n",
    "for tags in questions[\"Tags\"]:\n",
    "    relations_most_used.loc[tags, tags] += 1"
   ]
  },
  {
   "cell_type": "code",
   "execution_count": 27,
   "metadata": {
    "scrolled": true
   },
   "outputs": [
    {
     "data": {
      "text/html": [
       "<div>\n",
       "<style scoped>\n",
       "    .dataframe tbody tr th:only-of-type {\n",
       "        vertical-align: middle;\n",
       "    }\n",
       "\n",
       "    .dataframe tbody tr th {\n",
       "        vertical-align: top;\n",
       "    }\n",
       "\n",
       "    .dataframe thead th {\n",
       "        text-align: right;\n",
       "    }\n",
       "</style>\n",
       "<table border=\"1\" class=\"dataframe\">\n",
       "  <thead>\n",
       "    <tr style=\"text-align: right;\">\n",
       "      <th></th>\n",
       "      <th>machine-learning</th>\n",
       "      <th>python</th>\n",
       "      <th>deep-learning</th>\n",
       "      <th>neural-network</th>\n",
       "      <th>keras</th>\n",
       "      <th>classification</th>\n",
       "      <th>tensorflow</th>\n",
       "      <th>scikit-learn</th>\n",
       "      <th>nlp</th>\n",
       "      <th>cnn</th>\n",
       "      <th>time-series</th>\n",
       "      <th>lstm</th>\n",
       "      <th>pandas</th>\n",
       "      <th>regression</th>\n",
       "      <th>dataset</th>\n",
       "      <th>r</th>\n",
       "      <th>predictive-modeling</th>\n",
       "      <th>clustering</th>\n",
       "      <th>statistics</th>\n",
       "      <th>machine-learning-model</th>\n",
       "    </tr>\n",
       "  </thead>\n",
       "  <tbody>\n",
       "    <tr>\n",
       "      <th>machine-learning</th>\n",
       "      <td>2693</td>\n",
       "      <td>499</td>\n",
       "      <td>429</td>\n",
       "      <td>366</td>\n",
       "      <td>195</td>\n",
       "      <td>259</td>\n",
       "      <td>106</td>\n",
       "      <td>188</td>\n",
       "      <td>113</td>\n",
       "      <td>124</td>\n",
       "      <td>131</td>\n",
       "      <td>71</td>\n",
       "      <td>62</td>\n",
       "      <td>119</td>\n",
       "      <td>99</td>\n",
       "      <td>63</td>\n",
       "      <td>123</td>\n",
       "      <td>61</td>\n",
       "      <td>89</td>\n",
       "      <td>139</td>\n",
       "    </tr>\n",
       "    <tr>\n",
       "      <th>python</th>\n",
       "      <td>499</td>\n",
       "      <td>1814</td>\n",
       "      <td>160</td>\n",
       "      <td>137</td>\n",
       "      <td>280</td>\n",
       "      <td>98</td>\n",
       "      <td>167</td>\n",
       "      <td>235</td>\n",
       "      <td>71</td>\n",
       "      <td>62</td>\n",
       "      <td>105</td>\n",
       "      <td>61</td>\n",
       "      <td>244</td>\n",
       "      <td>59</td>\n",
       "      <td>53</td>\n",
       "      <td>24</td>\n",
       "      <td>35</td>\n",
       "      <td>45</td>\n",
       "      <td>35</td>\n",
       "      <td>37</td>\n",
       "    </tr>\n",
       "    <tr>\n",
       "      <th>deep-learning</th>\n",
       "      <td>429</td>\n",
       "      <td>160</td>\n",
       "      <td>1220</td>\n",
       "      <td>305</td>\n",
       "      <td>247</td>\n",
       "      <td>59</td>\n",
       "      <td>136</td>\n",
       "      <td>16</td>\n",
       "      <td>72</td>\n",
       "      <td>160</td>\n",
       "      <td>44</td>\n",
       "      <td>103</td>\n",
       "      <td>1</td>\n",
       "      <td>21</td>\n",
       "      <td>32</td>\n",
       "      <td>5</td>\n",
       "      <td>32</td>\n",
       "      <td>2</td>\n",
       "      <td>12</td>\n",
       "      <td>19</td>\n",
       "    </tr>\n",
       "    <tr>\n",
       "      <th>neural-network</th>\n",
       "      <td>366</td>\n",
       "      <td>137</td>\n",
       "      <td>305</td>\n",
       "      <td>1055</td>\n",
       "      <td>235</td>\n",
       "      <td>65</td>\n",
       "      <td>108</td>\n",
       "      <td>24</td>\n",
       "      <td>24</td>\n",
       "      <td>118</td>\n",
       "      <td>33</td>\n",
       "      <td>69</td>\n",
       "      <td>1</td>\n",
       "      <td>42</td>\n",
       "      <td>20</td>\n",
       "      <td>9</td>\n",
       "      <td>13</td>\n",
       "      <td>8</td>\n",
       "      <td>11</td>\n",
       "      <td>10</td>\n",
       "    </tr>\n",
       "    <tr>\n",
       "      <th>keras</th>\n",
       "      <td>195</td>\n",
       "      <td>280</td>\n",
       "      <td>247</td>\n",
       "      <td>235</td>\n",
       "      <td>935</td>\n",
       "      <td>58</td>\n",
       "      <td>256</td>\n",
       "      <td>34</td>\n",
       "      <td>23</td>\n",
       "      <td>116</td>\n",
       "      <td>51</td>\n",
       "      <td>133</td>\n",
       "      <td>3</td>\n",
       "      <td>31</td>\n",
       "      <td>13</td>\n",
       "      <td>10</td>\n",
       "      <td>11</td>\n",
       "      <td>0</td>\n",
       "      <td>3</td>\n",
       "      <td>17</td>\n",
       "    </tr>\n",
       "  </tbody>\n",
       "</table>\n",
       "</div>"
      ],
      "text/plain": [
       "                  machine-learning  python  deep-learning  neural-network  \\\n",
       "machine-learning              2693     499            429             366   \n",
       "python                         499    1814            160             137   \n",
       "deep-learning                  429     160           1220             305   \n",
       "neural-network                 366     137            305            1055   \n",
       "keras                          195     280            247             235   \n",
       "\n",
       "                  keras  classification  tensorflow  scikit-learn  nlp  cnn  \\\n",
       "machine-learning    195             259         106           188  113  124   \n",
       "python              280              98         167           235   71   62   \n",
       "deep-learning       247              59         136            16   72  160   \n",
       "neural-network      235              65         108            24   24  118   \n",
       "keras               935              58         256            34   23  116   \n",
       "\n",
       "                  time-series  lstm  pandas  regression  dataset   r  \\\n",
       "machine-learning          131    71      62         119       99  63   \n",
       "python                    105    61     244          59       53  24   \n",
       "deep-learning              44   103       1          21       32   5   \n",
       "neural-network             33    69       1          42       20   9   \n",
       "keras                      51   133       3          31       13  10   \n",
       "\n",
       "                  predictive-modeling  clustering  statistics  \\\n",
       "machine-learning                  123          61          89   \n",
       "python                             35          45          35   \n",
       "deep-learning                      32           2          12   \n",
       "neural-network                     13           8          11   \n",
       "keras                              11           0           3   \n",
       "\n",
       "                  machine-learning-model  \n",
       "machine-learning                     139  \n",
       "python                                37  \n",
       "deep-learning                         19  \n",
       "neural-network                        10  \n",
       "keras                                 17  "
      ]
     },
     "execution_count": 27,
     "metadata": {},
     "output_type": "execute_result"
    }
   ],
   "source": [
    "# This dataframe is quite large. Let's focus our attention on the most used tags.\n",
    "top_most_used_relation=relations_most_used.loc[most_used.index,most_used.index]\n",
    "top_most_used_relation"
   ]
  },
  {
   "cell_type": "markdown",
   "metadata": {},
   "source": [
    "- The time-series was used together with r 22 times. \n",
    "- Diagonal values in tell us how many times each of the tags was used.\n",
    "- We saw earlier that machine-learning was used 2693 times and we confirm it in this dataframe.\n",
    "\n",
    "It's hard for a human to understand what is going on in this dataframe. Let's create a heatmap. But before we do it, let's get rid of the values in blue, otherwise the colors will be too skewed."
   ]
  },
  {
   "cell_type": "code",
   "execution_count": 34,
   "metadata": {},
   "outputs": [
    {
     "data": {
      "text/plain": [
       "<matplotlib.axes._subplots.AxesSubplot at 0x1a37e92fba8>"
      ]
     },
     "execution_count": 34,
     "metadata": {},
     "output_type": "execute_result"
    },
    {
     "data": {
      "image/png": "[encoded data removed]",
      "text/plain": [
       "<Figure size 864x576 with 2 Axes>"
      ]
     },
     "metadata": {
      "needs_background": "light"
     },
     "output_type": "display_data"
    }
   ],
   "source": [
    "for i in range(top_most_used_relation.shape[0]):\n",
    "    top_most_used_relation.iloc[i,i] = pd.np.NaN\n",
    "\n",
    "plt.figure(figsize=(12,8))\n",
    "sns.heatmap(top_most_used_relation, cmap=\"Greens\", annot=False)"
   ]
  },
  {
   "cell_type": "markdown",
   "metadata": {},
   "source": [
    "# Enter Domain Knowledge\n",
    "Keras, scikit-learn, TensorFlow are all Python libraries that allow their users to employ deep learning (a type of neural network).\n",
    "\n",
    "Most of the top tags are all intimately related with one central machine learning theme: deep learning. If we want to be very specific, we can suggest the creation of Python content that uses deep learning for classification problems (and other variations of this suggestion). Pandas is a module of Python and the 2 are obviously linked. So my first suggestion for Data Science content would involve a lot of Python. The other popular tags are all connected to deep learning.\n",
    "\n",
    "At the glance of an eye, someone with sufficient domain knowledge can tell that the most popular topic at the moment, as shown by our analysis, is deep learning."
   ]
  },
  {
   "cell_type": "markdown",
   "metadata": {},
   "source": [
    "# Check Popularity Over time\n",
    "\n",
    "The file all_questions.csv holds the result of the query below — this query fetches all of the questions ever asked on DSSE, their dates and tags.\n",
    "\n",
    "we will track the interest in deep learning across time. We will:\n",
    "\n",
    "- Count how many deep learning questions are asked per time period.\n",
    "- The total amount of questions per time period.\n",
    "- How many deep learning questions there are relative to the total amount of questions per time period."
   ]
  },
  {
   "cell_type": "code",
   "execution_count": 13,
   "metadata": {},
   "outputs": [],
   "source": [
    "# Read data into pandas dataframe\n",
    "all_years = pd.read_csv(\"all_questions.csv\", parse_dates=[\"CreationDate\"])\n",
    "\n",
    "# Transform tags column into list of tags\n",
    "all_years[\"Tags\"] = all_years[\"Tags\"].str.replace(\"<\", \"\").str.replace(\">\", \",\")\n",
    "all_years[\"Tags\"] = all_years[\"Tags\"].str.split(\",\")\n",
    "\n",
    "# Create year column\n",
    "import datetime as dt\n",
    "all_years[\"year\"] = all_years[\"CreationDate\"].dt.strftime(\"%Y\")\n",
    "all_years[\"year\"] = all_years[\"year\"].astype(int)"
   ]
  },
  {
   "cell_type": "markdown",
   "metadata": {},
   "source": [
    "Let's a columns that includes one of the popular deep learning topics that we discovered from the 2019 data.\n",
    "\n",
    "Before deciding which questions should be classified as being deep learning questions, we should decide what tags are deep learning tags.\n",
    "\n",
    "The definition of what constitutes a deep learning tag we'll use is: a tag that belongs to the list [\"lstm\", \"cnn\", \"scikit-learn\", \"tensorflow\", \"keras\", \"neural-network\", \"deep-learning\"]."
   ]
  },
  {
   "cell_type": "code",
   "execution_count": 14,
   "metadata": {},
   "outputs": [
    {
     "data": {
      "text/html": [
       "<div>\n",
       "<style scoped>\n",
       "    .dataframe tbody tr th:only-of-type {\n",
       "        vertical-align: middle;\n",
       "    }\n",
       "\n",
       "    .dataframe tbody tr th {\n",
       "        vertical-align: top;\n",
       "    }\n",
       "\n",
       "    .dataframe thead th {\n",
       "        text-align: right;\n",
       "    }\n",
       "</style>\n",
       "<table border=\"1\" class=\"dataframe\">\n",
       "  <thead>\n",
       "    <tr style=\"text-align: right;\">\n",
       "      <th></th>\n",
       "      <th>Id</th>\n",
       "      <th>CreationDate</th>\n",
       "      <th>Tags</th>\n",
       "      <th>year</th>\n",
       "      <th>Deep_learning</th>\n",
       "    </tr>\n",
       "  </thead>\n",
       "  <tbody>\n",
       "    <tr>\n",
       "      <th>0</th>\n",
       "      <td>45416</td>\n",
       "      <td>2019-02-12 00:36:00</td>\n",
       "      <td>[python, keras, tensorflow, cnn, probability, ]</td>\n",
       "      <td>2019</td>\n",
       "      <td>True</td>\n",
       "    </tr>\n",
       "    <tr>\n",
       "      <th>1</th>\n",
       "      <td>45418</td>\n",
       "      <td>2019-02-12 00:50:00</td>\n",
       "      <td>[neural-network, ]</td>\n",
       "      <td>2019</td>\n",
       "      <td>True</td>\n",
       "    </tr>\n",
       "    <tr>\n",
       "      <th>2</th>\n",
       "      <td>45422</td>\n",
       "      <td>2019-02-12 04:40:00</td>\n",
       "      <td>[python, ibm-watson, chatbot, ]</td>\n",
       "      <td>2019</td>\n",
       "      <td>None</td>\n",
       "    </tr>\n",
       "    <tr>\n",
       "      <th>3</th>\n",
       "      <td>45426</td>\n",
       "      <td>2019-02-12 04:51:00</td>\n",
       "      <td>[keras, ]</td>\n",
       "      <td>2019</td>\n",
       "      <td>True</td>\n",
       "    </tr>\n",
       "    <tr>\n",
       "      <th>4</th>\n",
       "      <td>45427</td>\n",
       "      <td>2019-02-12 05:08:00</td>\n",
       "      <td>[r, predictive-modeling, machine-learning-mode...</td>\n",
       "      <td>2019</td>\n",
       "      <td>None</td>\n",
       "    </tr>\n",
       "  </tbody>\n",
       "</table>\n",
       "</div>"
      ],
      "text/plain": [
       "      Id        CreationDate  \\\n",
       "0  45416 2019-02-12 00:36:00   \n",
       "1  45418 2019-02-12 00:50:00   \n",
       "2  45422 2019-02-12 04:40:00   \n",
       "3  45426 2019-02-12 04:51:00   \n",
       "4  45427 2019-02-12 05:08:00   \n",
       "\n",
       "                                                Tags  year Deep_learning  \n",
       "0    [python, keras, tensorflow, cnn, probability, ]  2019          True  \n",
       "1                                 [neural-network, ]  2019          True  \n",
       "2                    [python, ibm-watson, chatbot, ]  2019          None  \n",
       "3                                          [keras, ]  2019          True  \n",
       "4  [r, predictive-modeling, machine-learning-mode...  2019          None  "
      ]
     },
     "execution_count": 14,
     "metadata": {},
     "output_type": "execute_result"
    }
   ],
   "source": [
    "# Function to find Deep learning tags\n",
    "def find_deep(value):\n",
    "    deep_learning = [\"lstm\", \"cnn\", \"scikit-learn\", \"tensorflow\", \"keras\", \"neural-network\", \"deep-learning\"]\n",
    "    for d in deep_learning:\n",
    "        if d in value:\n",
    "            return True\n",
    "\n",
    "# Apply function\n",
    "all_years[\"Deep_learning\"] = all_years[\"Tags\"].apply(find_deep)\n",
    "\n",
    "\n",
    "# Filter out incomplete 2020 data\n",
    "all_years = all_years[all_years[\"year\"] < 2020]\n",
    "# Show Dataset wiht new columns\n",
    "all_years.head()"
   ]
  },
  {
   "cell_type": "markdown",
   "metadata": {},
   "source": [
    "Let's create a column that identifies the quarter in which a question was asked."
   ]
  },
  {
   "cell_type": "code",
   "execution_count": 39,
   "metadata": {},
   "outputs": [],
   "source": [
    "def fetch_quarter(datetime):\n",
    "    year = str(datetime.year)[-2:]\n",
    "    # // operator divides and rounds the result\n",
    "    quarter = str(((datetime.month-1) // 3) + 1)\n",
    "    return \"{y}Q{q}\".format(y=year, q=quarter)\n",
    "\n",
    "all_years[\"Quarter\"] = all_years[\"CreationDate\"].apply(fetch_quarter)"
   ]
  },
  {
   "cell_type": "markdown",
   "metadata": {},
   "source": [
    "For the final stretch of this screen, we'll group by quarter and:\n",
    "\n",
    "- Count the number of deep learning questions.\n",
    "- Count the total number of questions.\n",
    "- Compute the ratio between the two numbers above."
   ]
  },
  {
   "cell_type": "code",
   "execution_count": 41,
   "metadata": {},
   "outputs": [
    {
     "data": {
      "text/html": [
       "<div>\n",
       "<style scoped>\n",
       "    .dataframe tbody tr th:only-of-type {\n",
       "        vertical-align: middle;\n",
       "    }\n",
       "\n",
       "    .dataframe tbody tr th {\n",
       "        vertical-align: top;\n",
       "    }\n",
       "\n",
       "    .dataframe thead th {\n",
       "        text-align: right;\n",
       "    }\n",
       "</style>\n",
       "<table border=\"1\" class=\"dataframe\">\n",
       "  <thead>\n",
       "    <tr style=\"text-align: right;\">\n",
       "      <th></th>\n",
       "      <th>Quarter</th>\n",
       "      <th>DeepLearningQuestions</th>\n",
       "      <th>TotalQuestions</th>\n",
       "      <th>DeepLearningRate</th>\n",
       "    </tr>\n",
       "  </thead>\n",
       "  <tbody>\n",
       "    <tr>\n",
       "      <th>2</th>\n",
       "      <td>14Q4</td>\n",
       "      <td>21</td>\n",
       "      <td>216</td>\n",
       "      <td>0.097222</td>\n",
       "    </tr>\n",
       "    <tr>\n",
       "      <th>10</th>\n",
       "      <td>16Q4</td>\n",
       "      <td>177</td>\n",
       "      <td>527</td>\n",
       "      <td>0.335863</td>\n",
       "    </tr>\n",
       "    <tr>\n",
       "      <th>5</th>\n",
       "      <td>15Q3</td>\n",
       "      <td>45</td>\n",
       "      <td>311</td>\n",
       "      <td>0.144695</td>\n",
       "    </tr>\n",
       "    <tr>\n",
       "      <th>19</th>\n",
       "      <td>19Q1</td>\n",
       "      <td>804</td>\n",
       "      <td>1987</td>\n",
       "      <td>0.404630</td>\n",
       "    </tr>\n",
       "    <tr>\n",
       "      <th>3</th>\n",
       "      <td>15Q1</td>\n",
       "      <td>18</td>\n",
       "      <td>190</td>\n",
       "      <td>0.094737</td>\n",
       "    </tr>\n",
       "  </tbody>\n",
       "</table>\n",
       "</div>"
      ],
      "text/plain": [
       "   Quarter  DeepLearningQuestions  TotalQuestions  DeepLearningRate\n",
       "2     14Q4                     21             216          0.097222\n",
       "10    16Q4                    177             527          0.335863\n",
       "5     15Q3                     45             311          0.144695\n",
       "19    19Q1                    804            1987          0.404630\n",
       "3     15Q1                     18             190          0.094737"
      ]
     },
     "execution_count": 41,
     "metadata": {},
     "output_type": "execute_result"
    }
   ],
   "source": [
    "quarterly = all_years.groupby('Quarter').agg({\"Deep_learning\": ['sum', 'size']})\n",
    "quarterly.columns = ['DeepLearningQuestions', 'TotalQuestions']\n",
    "quarterly[\"DeepLearningRate\"] = quarterly[\"DeepLearningQuestions\"]\\\n",
    "                                /quarterly[\"TotalQuestions\"]\n",
    "# The following is done to help with visualizations later.\n",
    "quarterly.reset_index(inplace=True)\n",
    "quarterly.sample(5)"
   ]
  },
  {
   "cell_type": "code",
   "execution_count": 46,
   "metadata": {},
   "outputs": [
    {
     "data": {
      "image/png": "[encoded data removed]",
      "text/plain": [
       "<Figure size 1728x864 with 2 Axes>"
      ]
     },
     "metadata": {
      "needs_background": "light"
     },
     "output_type": "display_data"
    }
   ],
   "source": [
    "ax1 = quarterly.plot(x=\"Quarter\", y=\"DeepLearningRate\",\n",
    "                    kind=\"line\", linestyle=\"-\", marker=\"o\", color=\"orange\",\n",
    "                    figsize=(24,12)\n",
    "                    )\n",
    "\n",
    "ax2 = quarterly.plot(x=\"Quarter\", y=\"TotalQuestions\",\n",
    "                     kind=\"bar\", ax=ax1, secondary_y=True, alpha=0.7, rot=45)\n",
    "\n"
   ]
  },
  {
   "cell_type": "markdown",
   "metadata": {},
   "source": [
    "# Conclusion\n",
    "\n",
    "It seems that deep learning questions was a high-growth trend since the start of DSSE and it looks like it is plateauing. There is no evidence to suggest that interest in deep learning is decreasing and so we maintain our previous idea of proposing that we create deep learning content."
   ]
  },
  {
   "cell_type": "markdown",
   "metadata": {},
   "source": []
  }
 ],
 "metadata": {
  "kernelspec": {
   "display_name": "Python 3",
   "language": "python",
   "name": "python3"
  },
  "language_info": {
   "codemirror_mode": {
    "name": "ipython",
    "version": 3
   },
   "file_extension": ".py",
   "mimetype": "text/x-python",
   "name": "python",
   "nbconvert_exporter": "python",
   "pygments_lexer": "ipython3",
   "version": "3.7.3"
  }
 },
 "nbformat": 4,
 "nbformat_minor": 2
}
